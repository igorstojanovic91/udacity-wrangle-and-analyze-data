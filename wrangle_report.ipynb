{
 "cells": [
  {
   "cell_type": "markdown",
   "metadata": {},
   "source": [
    "# Wrangle Report"
   ]
  },
  {
   "cell_type": "markdown",
   "metadata": {},
   "source": [
    "This wrangle report takes aim to provide report about the data wrangling that was conducted within the Data Analyst Nanodegree Term 2 Project \"Wrangle and Analyze Data\". "
   ]
  },
  {
   "cell_type": "markdown",
   "metadata": {},
   "source": [
    "After first gathering data from different sources, the author found himself in front of 3 datasets, which were unclean and untidy. In order to proceed to future analyses, conducting good data wrangling was crucial. "
   ]
  },
  {
   "cell_type": "markdown",
   "metadata": {},
   "source": [
    "After assessing  the data set, the author outlined the following shortcomings: \n",
    "\n",
    "## Summary Assessing\n",
    "\n",
    "### Visual assesment\n",
    "**Quality:**\n",
    "\n",
    "- Some tweet_ids contain links instead of numbers\n",
    "- Some sources contain multiple links and are hardly readable\n",
    "- Some Text is missing\n",
    "- Retweeted columns seem to miss a lot of values\n",
    "- Some expanded URLs have multiple entries (the same link was repeated several times)\n",
    "- Some rating numerators and denominators are missing\n",
    "- Some names are missing\n",
    "- Little information about doggo, floofer, pupper, puppo is available\n",
    "- Missing information of twitter_id_enhanced is not part of the data set\n",
    "- There were no issues identifliied in the image data set\n",
    "\n",
    "### Programmatic Asssesment \n",
    "**Quality:**\n",
    "\n",
    "- `Tweets_archive` show more rows than `tweets_data` (15 in total), which is the exact amount of exeptions\n",
    "- `Tweet_ip` has  significant lower amount of rows: 2075 in total\n",
    "- Ids in exeption not part of `tweets_data`\n",
    "- `tweets_data` id should be string and not an integer\n",
    "- `tweets_data` created_at should be pd.date_time format instead of string\n",
    "- `twitter_archive` tweet_id should be string and not an integer\n",
    "- Texts in both datasets `twitter_archive` and `tweets_data` are not in full length\n",
    "- There is a really high numerator and denumerator in `twitter_archive`\n",
    "- Exanded_urls in `twitter_archive` do not work\n",
    "- `twitter_archive` in_reply_to_status_id and in_reply_to_user_id contain only 78 non-null values\n",
    "- `twitter_archive` contain only 181 non-null values of retweeted_status_id, retweeted_status_user_id and retweeted_status_timestamp \n",
    "\n",
    "**tidiness**\n",
    "\n",
    "- One single column for\"stages od dog\" (doggo floofer pupper puppo) in `twitter_archive`\n",
    "- All files should be joined to one \"Master file\""
   ]
  },
  {
   "cell_type": "markdown",
   "metadata": {},
   "source": [
    "One can imagine by reading trough all this shortcomings that conducting analysis would be rather a pain than a join. So the author tackled the problem step by step:\n",
    "\n",
    "1. The correct urls were extracted from the twitter data set. This allows reassurance in case the numbers seem not to be right.\n",
    "2. The quality of stage_of_dog was improve by extracting the information abount the stage from the twitter text\n",
    "3. Stage_of_dog was set to one variable instead of former 4\n",
    "4. Since there was missing and probably wrong information in the archive, the nominator and denominator were again extracted from the text. \n",
    "5. Unwanted columns of the data were removed\n",
    "6. Twitter data coloumns were classified accordingly (string, datetime)\n",
    "7. All datasets were merged \n",
    "8. Differences in numerator and denuminator column were identified and cleaned\n",
    "9. Source column was made more readable"
   ]
  },
  {
   "cell_type": "markdown",
   "metadata": {},
   "source": [
    "The application of the learned data wrangling skills made this possible and prepared the data for a quick analysis."
   ]
  },
  {
   "cell_type": "code",
   "execution_count": null,
   "metadata": {},
   "outputs": [],
   "source": []
  }
 ],
 "metadata": {
  "kernelspec": {
   "display_name": "Python [default]",
   "language": "python",
   "name": "python3"
  },
  "language_info": {
   "codemirror_mode": {
    "name": "ipython",
    "version": 3
   },
   "file_extension": ".py",
   "mimetype": "text/x-python",
   "name": "python",
   "nbconvert_exporter": "python",
   "pygments_lexer": "ipython3",
   "version": "3.6.6"
  }
 },
 "nbformat": 4,
 "nbformat_minor": 2
}
